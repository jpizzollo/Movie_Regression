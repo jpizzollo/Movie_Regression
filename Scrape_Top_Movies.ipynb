{
 "cells": [
  {
   "cell_type": "code",
   "execution_count": 60,
   "metadata": {},
   "outputs": [],
   "source": [
    "from bs4 import BeautifulSoup\n",
    "import requests\n",
    "import pickle"
   ]
  },
  {
   "cell_type": "code",
   "execution_count": 61,
   "metadata": {},
   "outputs": [],
   "source": [
    "# Bring in movie urls:\n",
    "with open('movie_pages.pickle','rb') as read_file:\n",
    "    movie_pages = pickle.load(read_file)"
   ]
  },
  {
   "cell_type": "code",
   "execution_count": 63,
   "metadata": {},
   "outputs": [],
   "source": [
    "main_page = 'https://www.boxofficemojo.com'\n",
    "movies_data = []"
   ]
  },
  {
   "cell_type": "code",
   "execution_count": 64,
   "metadata": {},
   "outputs": [],
   "source": [
    "for page in movie_pages:\n",
    "    current_page = main_page + page\n",
    "    response = requests.get(current_page)\n",
    "    page = response.text\n",
    "    soup = BeautifulSoup(page,'lxml')\n",
    "    current_dict={}\n",
    "    try:\n",
    "        current_dict['Title'] = soup.find(name=\"title\").text.replace(\" - Box Office Mojo\",\"\")\n",
    "    except AttributeError:\n",
    "        current_dict['Title'] = 'na'\n",
    "        pass\n",
    "\n",
    "    try:\n",
    "        current_dict['Studio'] = soup.find(text='Domestic Distributor').findNext().text.replace(\"See full company information\\n\\n\",\"\")\n",
    "    except AttributeError:\n",
    "        current_dict['Studio'] = 'na'\n",
    "        pass\n",
    "    \n",
    "    try:\n",
    "        current_dict['Opening'] = soup.find(text='Domestic Opening').findNext().text\n",
    "    except AttributeError:\n",
    "        current_dict['Opening'] = 'na'\n",
    "        pass\n",
    "    \n",
    "    try:\n",
    "        current_dict['Budget'] = soup.find(text='Budget').findNext().text\n",
    "    except AttributeError:\n",
    "        current_dict['Budget'] = 'na'\n",
    "        pass\n",
    "    \n",
    "    try:\n",
    "        current_dict['Release'] = soup.find(text='Earliest Release Date').findNext().text.split('\\n')[0]\n",
    "    except AttributeError:\n",
    "        current_dict['Release'] = 'na'\n",
    "        pass\n",
    "    \n",
    "    try:\n",
    "        current_dict['Rating'] = soup.find(text='MPAA').findNext().text\n",
    "    except AttributeError:\n",
    "        current_dict['Rating'] = 'na'\n",
    "        pass\n",
    "    \n",
    "    try:\n",
    "        current_dict['Runtime'] = soup.find(text='Running Time').findNext().text\n",
    "    except AttributeError:\n",
    "        current_dict['Runtime'] = 'na'\n",
    "        pass\n",
    "    \n",
    "    try:\n",
    "        current_dict['Genre'] = soup.find(text='Genres').findNext().text.replace(\"\\n\",\"\").split()\n",
    "    except AttributeError:\n",
    "        current_dict['Genre'] = 'na'\n",
    "        pass\n",
    "    \n",
    "    try:\n",
    "        current_dict['Domestic'] = soup.find(class_=\"a-section a-spacing-none mojo-performance-summary-table\").find_all(class_=\"money\")[0].text\n",
    "    except AttributeError:\n",
    "        current_dict['Domestic'] = 'na'\n",
    "        pass\n",
    "    \n",
    "    try:\n",
    "        current_dict['International'] = soup.find(class_=\"a-section a-spacing-none mojo-performance-summary-table\").find_all(class_=\"money\")[1].text\n",
    "    except AttributeError:\n",
    "        current_dict['International'] = 'na'\n",
    "        pass\n",
    "    \n",
    "    movies_data.append(current_dict)\n",
    "    \n"
   ]
  },
  {
   "cell_type": "code",
   "execution_count": 65,
   "metadata": {},
   "outputs": [],
   "source": [
    "with open('movies_data_raw.pickle', 'wb') as to_write:\n",
    "    pickle.dump(movies_data, to_write)"
   ]
  },
  {
   "cell_type": "code",
   "execution_count": null,
   "metadata": {},
   "outputs": [],
   "source": []
  },
  {
   "cell_type": "code",
   "execution_count": null,
   "metadata": {},
   "outputs": [],
   "source": []
  },
  {
   "cell_type": "code",
   "execution_count": null,
   "metadata": {},
   "outputs": [],
   "source": []
  },
  {
   "cell_type": "code",
   "execution_count": null,
   "metadata": {},
   "outputs": [],
   "source": []
  },
  {
   "cell_type": "code",
   "execution_count": null,
   "metadata": {},
   "outputs": [],
   "source": []
  },
  {
   "cell_type": "code",
   "execution_count": null,
   "metadata": {},
   "outputs": [],
   "source": []
  },
  {
   "cell_type": "code",
   "execution_count": null,
   "metadata": {},
   "outputs": [],
   "source": []
  },
  {
   "cell_type": "code",
   "execution_count": null,
   "metadata": {},
   "outputs": [],
   "source": []
  },
  {
   "cell_type": "code",
   "execution_count": null,
   "metadata": {},
   "outputs": [],
   "source": []
  },
  {
   "cell_type": "code",
   "execution_count": null,
   "metadata": {},
   "outputs": [],
   "source": []
  },
  {
   "cell_type": "code",
   "execution_count": null,
   "metadata": {},
   "outputs": [],
   "source": []
  },
  {
   "cell_type": "code",
   "execution_count": null,
   "metadata": {},
   "outputs": [],
   "source": []
  },
  {
   "cell_type": "code",
   "execution_count": null,
   "metadata": {},
   "outputs": [],
   "source": [
    "url='https://www.boxofficemojo.com/title/tt0435761/?ref_=bo_cso_table_3'\n",
    "response = requests.get(url)\n",
    "page = response.text\n",
    "soup = BeautifulSoup(page,'lxml')"
   ]
  },
  {
   "cell_type": "code",
   "execution_count": null,
   "metadata": {},
   "outputs": [],
   "source": [
    "Toy Story 4\n",
    "main        https://www.boxofficemojo.com/title/tt1979376/?ref_=bo_cso_table_1\n",
    "\"Domestic\"  https://www.boxofficemojo.com/release/rl3798500865/?ref_=bo_tt_gr_1    <--- here are the data"
   ]
  }
 ],
 "metadata": {
  "kernelspec": {
   "display_name": "Python 3",
   "language": "python",
   "name": "python3"
  },
  "language_info": {
   "codemirror_mode": {
    "name": "ipython",
    "version": 3
   },
   "file_extension": ".py",
   "mimetype": "text/x-python",
   "name": "python",
   "nbconvert_exporter": "python",
   "pygments_lexer": "ipython3",
   "version": "3.8.3"
  }
 },
 "nbformat": 4,
 "nbformat_minor": 4
}
