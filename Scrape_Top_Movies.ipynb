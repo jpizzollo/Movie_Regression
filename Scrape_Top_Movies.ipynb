{
 "cells": [
  {
   "cell_type": "markdown",
   "metadata": {},
   "source": [
    "# Scrape Movies data from BoxOfficeMojo.com\n",
    "\n",
    "### Collect URLs for top grossing movies categorized by MPAA rating"
   ]
  },
  {
   "cell_type": "code",
   "execution_count": null,
   "metadata": {},
   "outputs": [],
   "source": [
    "from bs4 import BeautifulSoup\n",
    "import requests\n",
    "import pickle"
   ]
  },
  {
   "cell_type": "code",
   "execution_count": null,
   "metadata": {},
   "outputs": [],
   "source": [
    "# Pages listing URLs for all the top grossing movies \n",
    "Top_URL_List = [\n",
    "'https://www.boxofficemojo.com/chart/mpaa_title_lifetime_gross/?by_mpaa=G&ref_=bo_cso_ac',\n",
    "'https://www.boxofficemojo.com/chart/mpaa_title_lifetime_gross/?by_mpaa=G&offset=200',\n",
    "'https://www.boxofficemojo.com/chart/mpaa_title_lifetime_gross/?by_mpaa=PG&ref_=bo_cso_ac',\n",
    "'https://www.boxofficemojo.com/chart/mpaa_title_lifetime_gross/?by_mpaa=PG&offset=200',               \n",
    "'https://www.boxofficemojo.com/chart/mpaa_title_lifetime_gross/?by_mpaa=PG&offset=400',            \n",
    "'https://www.boxofficemojo.com/chart/mpaa_title_lifetime_gross/?by_mpaa=PG&offset=600',         \n",
    "'https://www.boxofficemojo.com/chart/mpaa_title_lifetime_gross/?offset=800&by_mpaa=PG',\n",
    "'https://www.boxofficemojo.com/chart/mpaa_title_lifetime_gross/?by_mpaa=PG-13&ref_=bo_cso_ac',\n",
    "'https://www.boxofficemojo.com/chart/mpaa_title_lifetime_gross/?by_mpaa=PG-13&offset=200',\n",
    "'https://www.boxofficemojo.com/chart/mpaa_title_lifetime_gross/?by_mpaa=PG-13&offset=400',\n",
    "'https://www.boxofficemojo.com/chart/mpaa_title_lifetime_gross/?offset=600&by_mpaa=PG-13',\n",
    "'https://www.boxofficemojo.com/chart/mpaa_title_lifetime_gross/?offset=800&by_mpaa=PG-13',\n",
    "'https://www.boxofficemojo.com/chart/mpaa_title_lifetime_gross/?by_mpaa=R&ref_=bo_cso_ac',\n",
    "'https://www.boxofficemojo.com/chart/mpaa_title_lifetime_gross/?by_mpaa=R&offset=200',\n",
    "'https://www.boxofficemojo.com/chart/mpaa_title_lifetime_gross/?offset=400&by_mpaa=R',\n",
    "'https://www.boxofficemojo.com/chart/mpaa_title_lifetime_gross/?by_mpaa=R&offset=600',\n",
    "'https://www.boxofficemojo.com/chart/mpaa_title_lifetime_gross/?by_mpaa=R&offset=800']"
   ]
  },
  {
   "cell_type": "code",
   "execution_count": null,
   "metadata": {},
   "outputs": [],
   "source": [
    "# Collect URLs for each movie page\n",
    "movie_pages = []\n",
    "for URL in Top_URL_List:\n",
    "    response = requests.get(URL)\n",
    "    print(response.status_code)\n",
    "    page = response.text\n",
    "    soup = BeautifulSoup(page,'lxml')\n",
    "    for div in soup.find_all(class_=\"a-text-left mojo-header-column mojo-truncate mojo-field-type-title\"):\n",
    "        for link in div.find_all('a'):\n",
    "            movie_pages.append(link.get('href'))"
   ]
  },
  {
   "cell_type": "code",
   "execution_count": null,
   "metadata": {},
   "outputs": [],
   "source": [
    "# Pickle the URL list\n",
    "with open('movie_pages.pickle', 'wb') as to_write:\n",
    "    pickle.dump(movie_pages, to_write)"
   ]
  },
  {
   "cell_type": "markdown",
   "metadata": {},
   "source": [
    "### Scrape features for each move with BeautifulSoup"
   ]
  },
  {
   "cell_type": "code",
   "execution_count": null,
   "metadata": {},
   "outputs": [],
   "source": [
    "# Bring in movies URL list\n",
    "with open('movie_pages.pickle','rb') as read_file:\n",
    "    movie_pages = pickle.load(read_file)"
   ]
  },
  {
   "cell_type": "code",
   "execution_count": null,
   "metadata": {},
   "outputs": [],
   "source": [
    "# Store movie features in a list of dictionaries; one dictionary per movie\n",
    "main_page = 'https://www.boxofficemojo.com'\n",
    "movies_data = []\n",
    "for page in movie_pages:\n",
    "    current_page = main_page + page\n",
    "    response = requests.get(current_page)\n",
    "    page = response.text\n",
    "    soup = BeautifulSoup(page,'lxml')\n",
    "    current_dict={}\n",
    "    try:\n",
    "        current_dict['Title'] = soup.find(name=\"title\").text.replace(\" - Box Office Mojo\",\"\")\n",
    "    except AttributeError:\n",
    "        current_dict['Title'] = 'na'\n",
    "        pass\n",
    "\n",
    "    try:\n",
    "        current_dict['Studio'] = soup.find(text='Domestic Distributor').findNext().text.replace(\"See full company information\\n\\n\",\"\")\n",
    "    except AttributeError:\n",
    "        current_dict['Studio'] = 'na'\n",
    "        pass\n",
    "    \n",
    "    try:\n",
    "        current_dict['Opening'] = soup.find(text='Domestic Opening').findNext().text\n",
    "    except AttributeError:\n",
    "        current_dict['Opening'] = 'na'\n",
    "        pass\n",
    "    \n",
    "    try:\n",
    "        current_dict['Budget'] = soup.find(text='Budget').findNext().text\n",
    "    except AttributeError:\n",
    "        current_dict['Budget'] = 'na'\n",
    "        pass\n",
    "    \n",
    "    try:\n",
    "        current_dict['Release'] = soup.find(text='Earliest Release Date').findNext().text.split('\\n')[0]\n",
    "    except AttributeError:\n",
    "        current_dict['Release'] = 'na'\n",
    "        pass\n",
    "    \n",
    "    try:\n",
    "        current_dict['Rating'] = soup.find(text='MPAA').findNext().text\n",
    "    except AttributeError:\n",
    "        current_dict['Rating'] = 'na'\n",
    "        pass\n",
    "    \n",
    "    try:\n",
    "        current_dict['Runtime'] = soup.find(text='Running Time').findNext().text\n",
    "    except AttributeError:\n",
    "        current_dict['Runtime'] = 'na'\n",
    "        pass\n",
    "    \n",
    "    try:\n",
    "        current_dict['Genre'] = soup.find(text='Genres').findNext().text.replace(\"\\n\",\"\").split()\n",
    "    except AttributeError:\n",
    "        current_dict['Genre'] = 'na'\n",
    "        pass\n",
    "    \n",
    "    try:\n",
    "        current_dict['Domestic'] = soup.find(class_=\"a-section a-spacing-none mojo-performance-summary-table\").find_all(class_=\"money\")[0].text\n",
    "    except AttributeError:\n",
    "        current_dict['Domestic'] = 'na'\n",
    "        pass\n",
    "    \n",
    "    try:\n",
    "        current_dict['International'] = soup.find(class_=\"a-section a-spacing-none mojo-performance-summary-table\").find_all(class_=\"money\")[1].text\n",
    "    except AttributeError:\n",
    "        current_dict['International'] = 'na'\n",
    "        pass\n",
    "    \n",
    "    movies_data.append(current_dict)"
   ]
  },
  {
   "cell_type": "code",
   "execution_count": null,
   "metadata": {},
   "outputs": [],
   "source": [
    "# Pickle the movie features data\n",
    "with open('movies_data_raw.pickle', 'wb') as to_write:\n",
    "    pickle.dump(movies_data, to_write)"
   ]
  },
  {
   "cell_type": "code",
   "execution_count": null,
   "metadata": {},
   "outputs": [],
   "source": []
  }
 ],
 "metadata": {
  "kernelspec": {
   "display_name": "Python 3",
   "language": "python",
   "name": "python3"
  },
  "language_info": {
   "codemirror_mode": {
    "name": "ipython",
    "version": 3
   },
   "file_extension": ".py",
   "mimetype": "text/x-python",
   "name": "python",
   "nbconvert_exporter": "python",
   "pygments_lexer": "ipython3",
   "version": "3.8.3"
  }
 },
 "nbformat": 4,
 "nbformat_minor": 4
}
