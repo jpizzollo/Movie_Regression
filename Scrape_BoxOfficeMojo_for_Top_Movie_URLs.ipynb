{
 "cells": [
  {
   "cell_type": "markdown",
   "metadata": {},
   "source": [
    "### Scrape Top Lifetime Grosses by MPAA Rating from BoxOfficeMojo.com  \n",
    "\n",
    "This code collects URLs for each movie in on BoxOfficeMojo.com's list of top grossing movies. These URLs are use in subsequent scripts to collect data about each individual movie."
   ]
  },
  {
   "cell_type": "code",
   "execution_count": null,
   "metadata": {},
   "outputs": [],
   "source": [
    "from bs4 import BeautifulSoup\n",
    "import requests"
   ]
  },
  {
   "cell_type": "code",
   "execution_count": 20,
   "metadata": {},
   "outputs": [],
   "source": [
    "# URLs:\n",
    "Top_URL_List = [\n",
    "'https://www.boxofficemojo.com/chart/mpaa_title_lifetime_gross/?by_mpaa=G&ref_=bo_cso_ac',\n",
    "'https://www.boxofficemojo.com/chart/mpaa_title_lifetime_gross/?by_mpaa=G&offset=200',\n",
    "'https://www.boxofficemojo.com/chart/mpaa_title_lifetime_gross/?by_mpaa=PG&ref_=bo_cso_ac',\n",
    "'https://www.boxofficemojo.com/chart/mpaa_title_lifetime_gross/?by_mpaa=PG&offset=200',               \n",
    "'https://www.boxofficemojo.com/chart/mpaa_title_lifetime_gross/?by_mpaa=PG&offset=400',            \n",
    "'https://www.boxofficemojo.com/chart/mpaa_title_lifetime_gross/?by_mpaa=PG&offset=600',         \n",
    "'https://www.boxofficemojo.com/chart/mpaa_title_lifetime_gross/?offset=800&by_mpaa=PG',\n",
    "'https://www.boxofficemojo.com/chart/mpaa_title_lifetime_gross/?by_mpaa=PG-13&ref_=bo_cso_ac',\n",
    "'https://www.boxofficemojo.com/chart/mpaa_title_lifetime_gross/?by_mpaa=PG-13&offset=200',\n",
    "'https://www.boxofficemojo.com/chart/mpaa_title_lifetime_gross/?by_mpaa=PG-13&offset=400',\n",
    "'https://www.boxofficemojo.com/chart/mpaa_title_lifetime_gross/?offset=600&by_mpaa=PG-13',\n",
    "'https://www.boxofficemojo.com/chart/mpaa_title_lifetime_gross/?offset=800&by_mpaa=PG-13',\n",
    "'https://www.boxofficemojo.com/chart/mpaa_title_lifetime_gross/?by_mpaa=R&ref_=bo_cso_ac',\n",
    "'https://www.boxofficemojo.com/chart/mpaa_title_lifetime_gross/?by_mpaa=R&offset=200',\n",
    "'https://www.boxofficemojo.com/chart/mpaa_title_lifetime_gross/?offset=400&by_mpaa=R',\n",
    "'https://www.boxofficemojo.com/chart/mpaa_title_lifetime_gross/?by_mpaa=R&offset=600',\n",
    "'https://www.boxofficemojo.com/chart/mpaa_title_lifetime_gross/?by_mpaa=R&offset=800']\n",
    "movie_pages = []"
   ]
  },
  {
   "cell_type": "code",
   "execution_count": 21,
   "metadata": {},
   "outputs": [
    {
     "name": "stdout",
     "output_type": "stream",
     "text": [
      "200\n",
      "200\n",
      "200\n",
      "200\n",
      "200\n",
      "200\n",
      "200\n",
      "200\n",
      "200\n",
      "200\n",
      "200\n",
      "200\n",
      "200\n",
      "200\n",
      "200\n",
      "200\n",
      "200\n"
     ]
    }
   ],
   "source": [
    "\n",
    "for URL in Top_URL_List:\n",
    "    response = requests.get(URL)\n",
    "    print(response.status_code)\n",
    "    page = response.text\n",
    "    soup = BeautifulSoup(page,'lxml')\n",
    "    for div in soup.find_all(class_=\"a-text-left mojo-header-column mojo-truncate mojo-field-type-title\"):\n",
    "        for link in div.find_all('a'):\n",
    "            movie_pages.append(link.get('href'))\n",
    "\n",
    "    \n"
   ]
  },
  {
   "cell_type": "code",
   "execution_count": 22,
   "metadata": {},
   "outputs": [
    {
     "name": "stdout",
     "output_type": "stream",
     "text": [
      "3363\n"
     ]
    }
   ],
   "source": [
    "print(len(movie_pages))"
   ]
  },
  {
   "cell_type": "code",
   "execution_count": 23,
   "metadata": {},
   "outputs": [
    {
     "data": {
      "text/plain": [
       "list"
      ]
     },
     "execution_count": 23,
     "metadata": {},
     "output_type": "execute_result"
    }
   ],
   "source": [
    "type(movie_pages)"
   ]
  },
  {
   "cell_type": "code",
   "execution_count": 24,
   "metadata": {},
   "outputs": [],
   "source": [
    "import pickle\n",
    "with open('movie_pages.pickle', 'wb') as to_write:\n",
    "    pickle.dump(movie_pages, to_write)"
   ]
  },
  {
   "cell_type": "code",
   "execution_count": null,
   "metadata": {},
   "outputs": [],
   "source": []
  },
  {
   "cell_type": "code",
   "execution_count": null,
   "metadata": {},
   "outputs": [],
   "source": []
  },
  {
   "cell_type": "code",
   "execution_count": null,
   "metadata": {},
   "outputs": [],
   "source": []
  },
  {
   "cell_type": "code",
   "execution_count": null,
   "metadata": {},
   "outputs": [],
   "source": []
  }
 ],
 "metadata": {
  "kernelspec": {
   "display_name": "Python 3",
   "language": "python",
   "name": "python3"
  },
  "language_info": {
   "codemirror_mode": {
    "name": "ipython",
    "version": 3
   },
   "file_extension": ".py",
   "mimetype": "text/x-python",
   "name": "python",
   "nbconvert_exporter": "python",
   "pygments_lexer": "ipython3",
   "version": "3.8.3"
  }
 },
 "nbformat": 4,
 "nbformat_minor": 4
}
